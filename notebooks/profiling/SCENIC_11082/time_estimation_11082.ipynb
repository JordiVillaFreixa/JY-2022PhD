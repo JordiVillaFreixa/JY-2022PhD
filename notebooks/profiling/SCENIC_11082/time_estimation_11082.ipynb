{
 "cells": [
  {
   "cell_type": "code",
   "execution_count": null,
   "id": "33f76e3b",
   "metadata": {},
   "outputs": [],
   "source": [
    "import os\n",
    "import pandas as pd\n",
    "import scanpy as sc\n",
    "import loompy as lp\n",
    "import matplotlib.pyplot as plt\n",
    "import glob\n",
    "\n",
    "\n",
    "sc.settings.verbosity = 3 # verbosity: errors (0), warnings (1), info (2), hints (3)\n",
    "sc.logging.print_versions()\n",
    "sc.set_figure_params(dpi=150, fontsize=10, dpi_save=600)"
   ]
  },
  {
   "cell_type": "code",
   "execution_count": null,
   "id": "b67ef24c",
   "metadata": {},
   "outputs": [],
   "source": [
    "def sce(sample):\n",
    "\n",
    "    #set corresponding folders which the results of each specimen are written to\n",
    "  \n",
    "\n",
    "    f_db_glob = \"/home/jing/scratch/resource/*feather\"\n",
    "    f_db_names = ' '.join( glob.glob(f_db_glob) )\n",
    "    \n",
    "    # motif databases\n",
    "    f_motif_path = \"/home/jing/scratch/resource/motifs-v9-nr.hgnc-m0.001-o0.0.tbl\"\n",
    "    f_tfs = \"/home/jing/scratch/resource/allTFs_hg38.txt\"\n",
    "    \n",
    "    output_folder = \"/home/jing/projects/profiling/\"\n",
    "    output_path = os.path.join(output_folder, sample)\n",
    "    print(output_path)\n",
    "    os.chdir(output_path)\n",
    "    \n",
    "    f_loom_path_scenic = f\"{output_path}/{sample}singlesample.loom\"\n",
    "\n",
    "    print(f_loom_path_scenic)\n",
    "    os.chdir(output_path)\n",
    "\n",
    "    # path to  loom file\n",
    "\n",
    "    adata= sc.read_loom(f_loom_path_scenic)\n",
    "    print(adata)\n",
    "    \n",
    "   \n",
    "    f_pyscenic_output = f\"{output_path}/{sample}singletumorscenic.loom\"\n",
    "    f_final_loom = f\"{output_path}/{sample}mergedscenic_integrated-output.loom\"\n",
    "    \n",
    "    df = pd.DataFrame()\n",
    "\n",
    "    # Save the empty DataFrame to a CSV file\n",
    "    df.to_csv('adj.csv', index=False)\n",
    "        \n",
    "\n",
    "    #I\n",
    "    !pyscenic grn {f_loom_path_scenic} {f_tfs} -o adj.csv --num_workers 8\n",
    "    adjacencies = pd.read_csv(\"adj.csv\", index_col=False, sep='\\t')\n",
    "\n",
    "    adjacencies.head()\n",
    "    \n",
    "    !pyscenic ctx adj.csv \\\n",
    "        {f_db_names} \\\n",
    "        --annotations_fname {f_motif_path} \\\n",
    "        --expression_mtx_fname {f_loom_path_scenic} \\\n",
    "        --output reg.csv \\\n",
    "        --mask_dropouts \\\n",
    "        --num_workers 12\n",
    "    \n",
    "    !pyscenic aucell \\\n",
    "        {f_loom_path_scenic} \\\n",
    "        reg.csv \\\n",
    "        --output {f_pyscenic_output} \\\n",
    "        --num_workers 12\n",
    "    \n",
    "   \n",
    "    lf = lp.connect(f_pyscenic_output, mode='r+', validate=False)\n",
    "\n",
    "    auc_mtx = pd.DataFrame( lf.ca.RegulonsAUC, index=lf.ca.CellID)\n",
    "    lf.close()\n",
    "    auc_mtx.to_pickle('auc_mtxtumor.pickle')\n",
    "    \n",
    "    "
   ]
  },
  {
   "cell_type": "code",
   "execution_count": null,
   "id": "dfde8d5a",
   "metadata": {},
   "outputs": [],
   "source": [
    "sce('SF11082')"
   ]
  }
 ],
 "metadata": {
  "kernelspec": {
   "display_name": "Python 3 (ipykernel)",
   "language": "python",
   "name": "python3"
  },
  "language_info": {
   "codemirror_mode": {
    "name": "ipython",
    "version": 3
   },
   "file_extension": ".py",
   "mimetype": "text/x-python",
   "name": "python",
   "nbconvert_exporter": "python",
   "pygments_lexer": "ipython3",
   "version": "3.9.16"
  }
 },
 "nbformat": 4,
 "nbformat_minor": 5
}

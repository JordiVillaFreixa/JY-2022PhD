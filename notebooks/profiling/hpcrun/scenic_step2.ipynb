{
 "cells": [
  {
   "cell_type": "code",
   "execution_count": null,
   "id": "bcbd2c65",
   "metadata": {},
   "outputs": [],
   "source": [
    "import os\n",
    "import glob"
   ]
  },
  {
   "cell_type": "code",
   "execution_count": null,
   "id": "177ef41e",
   "metadata": {},
   "outputs": [],
   "source": [
    "sample = 'SF2777'\n",
    "\n",
    "f_loom_path_scenic = f\"~/projects/GBM/specimens/individuals/{sample}/{sample}tumor.loom\"\n",
    "\n",
    "f_db_glob=\"/home/jyang/projects/GBM/resource/*feather\"\n",
    "f_db_names = ' '.join( glob.glob(f_db_glob) )\n",
    "\n",
    "f_motif_path=\"/home/jyang/projects/GBM/resource/motifs-v9-nr.hgnc-m0.001-o0.0.tbl\"\n",
    "output_file=f\"/home/jyang/projects/GBM/specimens/individuals/{sample}/reg.csv\"\n",
    "module_file=f\"/home/jyang/projects/GBM/specimens/individuals/{sample}/adj.csv\"\n"
   ]
  },
  {
   "cell_type": "markdown",
   "id": "fd540c82",
   "metadata": {},
   "source": [
    "#Command\n",
    "\n",
    "                                                                             \n",
    "pyscenic_command = 'pyscenic ctx {} {} {} -o reg.csv --mask_dropouts --num_workers 4 --annotations_fname {}'.format(module_file, f_motif_path,f_loom_path_scenic,f_db_names)"
   ]
  },
  {
   "cell_type": "code",
   "execution_count": null,
   "id": "804c6675",
   "metadata": {},
   "outputs": [],
   "source": [
    "command = 'nohup /usr/bin/time -v {} > info.txt 2>&1 &'.format(pyscenic_command)\n",
    "print(command)"
   ]
  },
  {
   "cell_type": "code",
   "execution_count": null,
   "id": "3ba9cf10",
   "metadata": {},
   "outputs": [],
   "source": [
    "os.system(command)"
   ]
  }
 ],
 "metadata": {
  "kernelspec": {
   "display_name": "Python 3 (ipykernel)",
   "language": "python",
   "name": "python3"
  },
  "language_info": {
   "codemirror_mode": {
    "name": "ipython",
    "version": 3
   },
   "file_extension": ".py",
   "mimetype": "text/x-python",
   "name": "python",
   "nbconvert_exporter": "python",
   "pygments_lexer": "ipython3",
   "version": "3.9.7"
  }
 },
 "nbformat": 4,
 "nbformat_minor": 5
}
